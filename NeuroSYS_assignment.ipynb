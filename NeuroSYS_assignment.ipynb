{
 "cells": [
  {
   "cell_type": "markdown",
   "metadata": {},
   "source": [
    "### NeuroSYS Assignment\n",
    "\n",
    "Magdalena Wolniaczyk"
   ]
  },
  {
   "cell_type": "code",
   "execution_count": 1,
   "metadata": {},
   "outputs": [],
   "source": [
    "import sqlite3\n",
    "import pandas as pd\n",
    "import numpy as np\n",
    "import h5py\n",
    "import matplotlib.pyplot as plt"
   ]
  },
  {
   "cell_type": "markdown",
   "metadata": {},
   "source": [
    "### 1."
   ]
  },
  {
   "cell_type": "code",
   "execution_count": 2,
   "metadata": {},
   "outputs": [],
   "source": [
    "conn = sqlite3.connect('database.db')\n",
    "c = conn.cursor()"
   ]
  },
  {
   "cell_type": "code",
   "execution_count": 3,
   "metadata": {},
   "outputs": [
    {
     "name": "stdout",
     "output_type": "stream",
     "text": [
      "[('data',), ('connection',), ('additional_data',)]\n"
     ]
    }
   ],
   "source": [
    "c.execute(\"SELECT name FROM sqlite_master WHERE type='table';\")\n",
    "print(c.fetchall())"
   ]
  },
  {
   "cell_type": "code",
   "execution_count": 4,
   "metadata": {},
   "outputs": [
    {
     "name": "stdout",
     "output_type": "stream",
     "text": [
      "Length of the table: 101300\n",
      "Columns names are: ['id', 'x', 'y', 'z', 'connection_id']\n",
      "(1, 44.62894693090455, '97.81099110033537', 569.7004532585571, 105)\n",
      "(2, 40.764309055564155, '82.0486367746882', 653.9040637023857, 76)\n",
      "(3, 25.849509311338426, '63.29510234435348', 374.1711758229815, 72)\n",
      "(4, 18.973395754992428, '50.59596955801666', 440.9766346304599, 239)\n",
      "(5, 44.7876215662726, '39.347747208411256', 219.38896277499066, 152)\n"
     ]
    }
   ],
   "source": [
    "cursor = c.execute('SELECT * FROM data')\n",
    "data = c.fetchall()\n",
    "\n",
    "print('Length of the table:', len(data))\n",
    "\n",
    "columns_names = list(map(lambda x: x[0], cursor.description))\n",
    "print('Columns names are:', columns_names)\n",
    "\n",
    "for row in data[:5]:\n",
    "    print(row)"
   ]
  },
  {
   "cell_type": "code",
   "execution_count": 5,
   "metadata": {},
   "outputs": [
    {
     "name": "stdout",
     "output_type": "stream",
     "text": [
      "Length of the table: 36\n",
      "Columns names are: ['id', 'name']\n",
      "(2, 'blue')\n",
      "(4, 'blue')\n",
      "(9, 'blue')\n",
      "(10, 'blue')\n",
      "(15, 'blue')\n"
     ]
    }
   ],
   "source": [
    "cursor = c.execute('SELECT * FROM connection')\n",
    "data = c.fetchall()\n",
    "\n",
    "print('Length of the table:', len(data))\n",
    "\n",
    "columns_names = list(map(lambda x: x[0], cursor.description))\n",
    "print('Columns names are:', columns_names)\n",
    "\n",
    "for row in data[:5]:\n",
    "    print(row)"
   ]
  },
  {
   "cell_type": "code",
   "execution_count": 6,
   "metadata": {},
   "outputs": [
    {
     "name": "stdout",
     "output_type": "stream",
     "text": [
      "Length of the table: 6\n",
      "Columns names are: ['color_id', 'color_name']\n",
      "(0, 'red')\n",
      "(2, 'blue')\n",
      "(3, 'yellow')\n",
      "(4, 'orange')\n",
      "(5, 'black')\n",
      "(11, 'green')\n"
     ]
    }
   ],
   "source": [
    "cursor = c.execute('SELECT * FROM additional_data')\n",
    "data = c.fetchall()\n",
    "\n",
    "print('Length of the table:', len(data))\n",
    "\n",
    "columns_names = list(map(lambda x: x[0], cursor.description))\n",
    "print('Columns names are:', columns_names)\n",
    "\n",
    "for row in data:\n",
    "    print(row)"
   ]
  },
  {
   "cell_type": "markdown",
   "metadata": {},
   "source": [
    "### 2."
   ]
  },
  {
   "cell_type": "code",
   "execution_count": 7,
   "metadata": {},
   "outputs": [],
   "source": [
    "df = pd.read_sql_query('SELECT * FROM data LEFT JOIN connection ON data.connection_id = connection.id LEFT JOIN additional_data as ad ON connection.name = ad.color_name', conn)"
   ]
  },
  {
   "cell_type": "code",
   "execution_count": 8,
   "metadata": {},
   "outputs": [
    {
     "data": {
      "text/html": [
       "<div>\n",
       "<style scoped>\n",
       "    .dataframe tbody tr th:only-of-type {\n",
       "        vertical-align: middle;\n",
       "    }\n",
       "\n",
       "    .dataframe tbody tr th {\n",
       "        vertical-align: top;\n",
       "    }\n",
       "\n",
       "    .dataframe thead th {\n",
       "        text-align: right;\n",
       "    }\n",
       "</style>\n",
       "<table border=\"1\" class=\"dataframe\">\n",
       "  <thead>\n",
       "    <tr style=\"text-align: right;\">\n",
       "      <th></th>\n",
       "      <th>id</th>\n",
       "      <th>x</th>\n",
       "      <th>y</th>\n",
       "      <th>z</th>\n",
       "      <th>connection_id</th>\n",
       "      <th>id</th>\n",
       "      <th>name</th>\n",
       "      <th>color_id</th>\n",
       "      <th>color_name</th>\n",
       "    </tr>\n",
       "  </thead>\n",
       "  <tbody>\n",
       "    <tr>\n",
       "      <td>0</td>\n",
       "      <td>1</td>\n",
       "      <td>44.628947</td>\n",
       "      <td>97.81099110033537</td>\n",
       "      <td>569.700453</td>\n",
       "      <td>105</td>\n",
       "      <td>105.0</td>\n",
       "      <td>green</td>\n",
       "      <td>11.0</td>\n",
       "      <td>green</td>\n",
       "    </tr>\n",
       "    <tr>\n",
       "      <td>1</td>\n",
       "      <td>2</td>\n",
       "      <td>40.764309</td>\n",
       "      <td>82.0486367746882</td>\n",
       "      <td>653.904064</td>\n",
       "      <td>76</td>\n",
       "      <td>76.0</td>\n",
       "      <td>orange</td>\n",
       "      <td>4.0</td>\n",
       "      <td>orange</td>\n",
       "    </tr>\n",
       "    <tr>\n",
       "      <td>2</td>\n",
       "      <td>3</td>\n",
       "      <td>25.849509</td>\n",
       "      <td>63.29510234435348</td>\n",
       "      <td>374.171176</td>\n",
       "      <td>72</td>\n",
       "      <td>72.0</td>\n",
       "      <td>orange</td>\n",
       "      <td>4.0</td>\n",
       "      <td>orange</td>\n",
       "    </tr>\n",
       "    <tr>\n",
       "      <td>3</td>\n",
       "      <td>4</td>\n",
       "      <td>18.973396</td>\n",
       "      <td>50.59596955801666</td>\n",
       "      <td>440.976635</td>\n",
       "      <td>239</td>\n",
       "      <td>239.0</td>\n",
       "      <td>yellow</td>\n",
       "      <td>3.0</td>\n",
       "      <td>yellow</td>\n",
       "    </tr>\n",
       "    <tr>\n",
       "      <td>4</td>\n",
       "      <td>5</td>\n",
       "      <td>44.787622</td>\n",
       "      <td>39.347747208411256</td>\n",
       "      <td>219.388963</td>\n",
       "      <td>152</td>\n",
       "      <td>152.0</td>\n",
       "      <td>red</td>\n",
       "      <td>0.0</td>\n",
       "      <td>red</td>\n",
       "    </tr>\n",
       "  </tbody>\n",
       "</table>\n",
       "</div>"
      ],
      "text/plain": [
       "   id          x                   y           z  connection_id     id  \\\n",
       "0   1  44.628947   97.81099110033537  569.700453            105  105.0   \n",
       "1   2  40.764309    82.0486367746882  653.904064             76   76.0   \n",
       "2   3  25.849509   63.29510234435348  374.171176             72   72.0   \n",
       "3   4  18.973396   50.59596955801666  440.976635            239  239.0   \n",
       "4   5  44.787622  39.347747208411256  219.388963            152  152.0   \n",
       "\n",
       "     name  color_id color_name  \n",
       "0   green      11.0      green  \n",
       "1  orange       4.0     orange  \n",
       "2  orange       4.0     orange  \n",
       "3  yellow       3.0     yellow  \n",
       "4     red       0.0        red  "
      ]
     },
     "execution_count": 8,
     "metadata": {},
     "output_type": "execute_result"
    }
   ],
   "source": [
    "df.head()"
   ]
  },
  {
   "cell_type": "code",
   "execution_count": 9,
   "metadata": {},
   "outputs": [],
   "source": [
    "df = df.drop(columns = ['id','connection_id','name'])"
   ]
  },
  {
   "cell_type": "code",
   "execution_count": 10,
   "metadata": {},
   "outputs": [
    {
     "data": {
      "text/plain": [
       "(101300, 5)"
      ]
     },
     "execution_count": 10,
     "metadata": {},
     "output_type": "execute_result"
    }
   ],
   "source": [
    "df.shape"
   ]
  },
  {
   "cell_type": "markdown",
   "metadata": {},
   "source": [
    "### 4."
   ]
  },
  {
   "cell_type": "code",
   "execution_count": 11,
   "metadata": {},
   "outputs": [
    {
     "data": {
      "text/plain": [
       "x               0\n",
       "y               0\n",
       "z               0\n",
       "color_id      100\n",
       "color_name    100\n",
       "dtype: int64"
      ]
     },
     "execution_count": 11,
     "metadata": {},
     "output_type": "execute_result"
    }
   ],
   "source": [
    "df.isnull().sum()"
   ]
  },
  {
   "cell_type": "code",
   "execution_count": 12,
   "metadata": {},
   "outputs": [
    {
     "data": {
      "text/html": [
       "<div>\n",
       "<style scoped>\n",
       "    .dataframe tbody tr th:only-of-type {\n",
       "        vertical-align: middle;\n",
       "    }\n",
       "\n",
       "    .dataframe tbody tr th {\n",
       "        vertical-align: top;\n",
       "    }\n",
       "\n",
       "    .dataframe thead th {\n",
       "        text-align: right;\n",
       "    }\n",
       "</style>\n",
       "<table border=\"1\" class=\"dataframe\">\n",
       "  <thead>\n",
       "    <tr style=\"text-align: right;\">\n",
       "      <th></th>\n",
       "      <th>x</th>\n",
       "      <th>y</th>\n",
       "      <th>z</th>\n",
       "      <th>color_id</th>\n",
       "      <th>color_name</th>\n",
       "    </tr>\n",
       "  </thead>\n",
       "  <tbody>\n",
       "    <tr>\n",
       "      <td>11</td>\n",
       "      <td>0.0</td>\n",
       "      <td>gqxchrmigk</td>\n",
       "      <td>100.0</td>\n",
       "      <td>NaN</td>\n",
       "      <td>None</td>\n",
       "    </tr>\n",
       "    <tr>\n",
       "      <td>154</td>\n",
       "      <td>0.0</td>\n",
       "      <td>xmscnxchve</td>\n",
       "      <td>100.0</td>\n",
       "      <td>NaN</td>\n",
       "      <td>None</td>\n",
       "    </tr>\n",
       "    <tr>\n",
       "      <td>2055</td>\n",
       "      <td>0.0</td>\n",
       "      <td>fxwcokaklc</td>\n",
       "      <td>100.0</td>\n",
       "      <td>NaN</td>\n",
       "      <td>None</td>\n",
       "    </tr>\n",
       "    <tr>\n",
       "      <td>2480</td>\n",
       "      <td>0.0</td>\n",
       "      <td>lskpnspvll</td>\n",
       "      <td>100.0</td>\n",
       "      <td>NaN</td>\n",
       "      <td>None</td>\n",
       "    </tr>\n",
       "    <tr>\n",
       "      <td>3707</td>\n",
       "      <td>0.0</td>\n",
       "      <td>imbdcncrep</td>\n",
       "      <td>100.0</td>\n",
       "      <td>NaN</td>\n",
       "      <td>None</td>\n",
       "    </tr>\n",
       "    <tr>\n",
       "      <td>...</td>\n",
       "      <td>...</td>\n",
       "      <td>...</td>\n",
       "      <td>...</td>\n",
       "      <td>...</td>\n",
       "      <td>...</td>\n",
       "    </tr>\n",
       "    <tr>\n",
       "      <td>93939</td>\n",
       "      <td>0.0</td>\n",
       "      <td>cewlncynrf</td>\n",
       "      <td>100.0</td>\n",
       "      <td>NaN</td>\n",
       "      <td>None</td>\n",
       "    </tr>\n",
       "    <tr>\n",
       "      <td>94671</td>\n",
       "      <td>0.0</td>\n",
       "      <td>orahhudmkb</td>\n",
       "      <td>100.0</td>\n",
       "      <td>NaN</td>\n",
       "      <td>None</td>\n",
       "    </tr>\n",
       "    <tr>\n",
       "      <td>98213</td>\n",
       "      <td>0.0</td>\n",
       "      <td>atarjcyvij</td>\n",
       "      <td>100.0</td>\n",
       "      <td>NaN</td>\n",
       "      <td>None</td>\n",
       "    </tr>\n",
       "    <tr>\n",
       "      <td>99077</td>\n",
       "      <td>0.0</td>\n",
       "      <td>fhfggcbqey</td>\n",
       "      <td>100.0</td>\n",
       "      <td>NaN</td>\n",
       "      <td>None</td>\n",
       "    </tr>\n",
       "    <tr>\n",
       "      <td>100090</td>\n",
       "      <td>0.0</td>\n",
       "      <td>kqnybszajb</td>\n",
       "      <td>100.0</td>\n",
       "      <td>NaN</td>\n",
       "      <td>None</td>\n",
       "    </tr>\n",
       "  </tbody>\n",
       "</table>\n",
       "<p>100 rows × 5 columns</p>\n",
       "</div>"
      ],
      "text/plain": [
       "          x           y      z  color_id color_name\n",
       "11      0.0  gqxchrmigk  100.0       NaN       None\n",
       "154     0.0  xmscnxchve  100.0       NaN       None\n",
       "2055    0.0  fxwcokaklc  100.0       NaN       None\n",
       "2480    0.0  lskpnspvll  100.0       NaN       None\n",
       "3707    0.0  imbdcncrep  100.0       NaN       None\n",
       "...     ...         ...    ...       ...        ...\n",
       "93939   0.0  cewlncynrf  100.0       NaN       None\n",
       "94671   0.0  orahhudmkb  100.0       NaN       None\n",
       "98213   0.0  atarjcyvij  100.0       NaN       None\n",
       "99077   0.0  fhfggcbqey  100.0       NaN       None\n",
       "100090  0.0  kqnybszajb  100.0       NaN       None\n",
       "\n",
       "[100 rows x 5 columns]"
      ]
     },
     "execution_count": 12,
     "metadata": {},
     "output_type": "execute_result"
    }
   ],
   "source": [
    "df[pd.isnull(df).any(axis=1)]"
   ]
  },
  {
   "cell_type": "code",
   "execution_count": 13,
   "metadata": {},
   "outputs": [],
   "source": [
    "df = df.dropna()"
   ]
  },
  {
   "cell_type": "code",
   "execution_count": 14,
   "metadata": {},
   "outputs": [
    {
     "data": {
      "text/plain": [
       "(101200, 5)"
      ]
     },
     "execution_count": 14,
     "metadata": {},
     "output_type": "execute_result"
    }
   ],
   "source": [
    "df.shape"
   ]
  },
  {
   "cell_type": "markdown",
   "metadata": {},
   "source": [
    "### 3."
   ]
  },
  {
   "cell_type": "code",
   "execution_count": 15,
   "metadata": {},
   "outputs": [
    {
     "data": {
      "text/plain": [
       "x             float64\n",
       "y              object\n",
       "z             float64\n",
       "color_id      float64\n",
       "color_name     object\n",
       "dtype: object"
      ]
     },
     "execution_count": 15,
     "metadata": {},
     "output_type": "execute_result"
    }
   ],
   "source": [
    "df.dtypes"
   ]
  },
  {
   "cell_type": "code",
   "execution_count": 16,
   "metadata": {},
   "outputs": [],
   "source": [
    "df['y'] = df['y'].astype(float)\n",
    "df['color_id'] = df['color_id'].astype(int) "
   ]
  },
  {
   "cell_type": "markdown",
   "metadata": {},
   "source": [
    "### 5."
   ]
  },
  {
   "cell_type": "code",
   "execution_count": 17,
   "metadata": {},
   "outputs": [],
   "source": [
    "df = df.rename(columns={'color_name': 'color'})"
   ]
  },
  {
   "cell_type": "markdown",
   "metadata": {},
   "source": [
    "### 6."
   ]
  },
  {
   "cell_type": "code",
   "execution_count": 18,
   "metadata": {},
   "outputs": [
    {
     "name": "stdout",
     "output_type": "stream",
     "text": [
      "Unique color values are: ['green' 'orange' 'yellow' 'red' 'black' 'blue']\n"
     ]
    }
   ],
   "source": [
    "print('Unique color values are:', df.color.unique())"
   ]
  },
  {
   "cell_type": "markdown",
   "metadata": {},
   "source": [
    "### 7."
   ]
  },
  {
   "cell_type": "code",
   "execution_count": 19,
   "metadata": {},
   "outputs": [],
   "source": [
    "df_old = df\n",
    "df = df[df.z == 100]"
   ]
  },
  {
   "cell_type": "markdown",
   "metadata": {},
   "source": [
    "### 8."
   ]
  },
  {
   "cell_type": "code",
   "execution_count": 20,
   "metadata": {},
   "outputs": [
    {
     "data": {
      "text/plain": [
       "{'blue', 'green', 'red'}"
      ]
     },
     "execution_count": 20,
     "metadata": {},
     "output_type": "execute_result"
    }
   ],
   "source": [
    "set(df.color.unique())"
   ]
  },
  {
   "cell_type": "code",
   "execution_count": 21,
   "metadata": {},
   "outputs": [
    {
     "data": {
      "text/plain": [
       "0.10677029373059196"
      ]
     },
     "execution_count": 21,
     "metadata": {},
     "output_type": "execute_result"
    }
   ],
   "source": [
    "df_red = df[df.color == 'red']\n",
    "central_x = np.mean(df_red.x) \n",
    "central_y = np.mean(df_red.y)\n",
    "sigma = sum(np.sqrt((df_red.x-central_x)**2 + (df_red.y-central_y)**2)) /len(df_red)\n",
    "sigma"
   ]
  },
  {
   "cell_type": "code",
   "execution_count": 22,
   "metadata": {},
   "outputs": [
    {
     "data": {
      "text/html": [
       "<div>\n",
       "<style scoped>\n",
       "    .dataframe tbody tr th:only-of-type {\n",
       "        vertical-align: middle;\n",
       "    }\n",
       "\n",
       "    .dataframe tbody tr th {\n",
       "        vertical-align: top;\n",
       "    }\n",
       "\n",
       "    .dataframe thead th {\n",
       "        text-align: right;\n",
       "    }\n",
       "</style>\n",
       "<table border=\"1\" class=\"dataframe\">\n",
       "  <thead>\n",
       "    <tr style=\"text-align: right;\">\n",
       "      <th></th>\n",
       "      <th>x</th>\n",
       "      <th>y</th>\n",
       "      <th>z</th>\n",
       "      <th>color_id</th>\n",
       "      <th>color</th>\n",
       "    </tr>\n",
       "  </thead>\n",
       "  <tbody>\n",
       "    <tr>\n",
       "      <td>995</td>\n",
       "      <td>-0.856566</td>\n",
       "      <td>0.015183</td>\n",
       "      <td>100.0</td>\n",
       "      <td>0</td>\n",
       "      <td>red</td>\n",
       "    </tr>\n",
       "    <tr>\n",
       "      <td>2561</td>\n",
       "      <td>-1.187879</td>\n",
       "      <td>0.079223</td>\n",
       "      <td>100.0</td>\n",
       "      <td>0</td>\n",
       "      <td>red</td>\n",
       "    </tr>\n",
       "    <tr>\n",
       "      <td>2986</td>\n",
       "      <td>-1.155556</td>\n",
       "      <td>0.095751</td>\n",
       "      <td>100.0</td>\n",
       "      <td>0</td>\n",
       "      <td>red</td>\n",
       "    </tr>\n",
       "    <tr>\n",
       "      <td>3405</td>\n",
       "      <td>-0.880808</td>\n",
       "      <td>0.006089</td>\n",
       "      <td>100.0</td>\n",
       "      <td>0</td>\n",
       "      <td>red</td>\n",
       "    </tr>\n",
       "    <tr>\n",
       "      <td>8403</td>\n",
       "      <td>-1.183838</td>\n",
       "      <td>0.083721</td>\n",
       "      <td>100.0</td>\n",
       "      <td>0</td>\n",
       "      <td>red</td>\n",
       "    </tr>\n",
       "  </tbody>\n",
       "</table>\n",
       "</div>"
      ],
      "text/plain": [
       "             x         y      z  color_id color\n",
       "995  -0.856566  0.015183  100.0         0   red\n",
       "2561 -1.187879  0.079223  100.0         0   red\n",
       "2986 -1.155556  0.095751  100.0         0   red\n",
       "3405 -0.880808  0.006089  100.0         0   red\n",
       "8403 -1.183838  0.083721  100.0         0   red"
      ]
     },
     "execution_count": 22,
     "metadata": {},
     "output_type": "execute_result"
    }
   ],
   "source": [
    "df_red[(np.sqrt((df_red.x-central_x)**2 + (df_red.y-central_y)**2) > sigma)][:5]"
   ]
  },
  {
   "cell_type": "code",
   "execution_count": 23,
   "metadata": {},
   "outputs": [],
   "source": [
    "df = df.drop(df_red[(np.sqrt((df_red.x-central_x)**2 + (df_red.y-central_y)**2) > sigma)].index)"
   ]
  },
  {
   "cell_type": "markdown",
   "metadata": {},
   "source": [
    "### 9."
   ]
  },
  {
   "cell_type": "code",
   "execution_count": 24,
   "metadata": {},
   "outputs": [
    {
     "data": {
      "text/html": [
       "<div>\n",
       "<style scoped>\n",
       "    .dataframe tbody tr th:only-of-type {\n",
       "        vertical-align: middle;\n",
       "    }\n",
       "\n",
       "    .dataframe tbody tr th {\n",
       "        vertical-align: top;\n",
       "    }\n",
       "\n",
       "    .dataframe thead th {\n",
       "        text-align: right;\n",
       "    }\n",
       "</style>\n",
       "<table border=\"1\" class=\"dataframe\">\n",
       "  <thead>\n",
       "    <tr style=\"text-align: right;\">\n",
       "      <th></th>\n",
       "      <th>x</th>\n",
       "      <th>y</th>\n",
       "      <th>z</th>\n",
       "      <th>color_id</th>\n",
       "      <th>color</th>\n",
       "    </tr>\n",
       "  </thead>\n",
       "  <tbody>\n",
       "    <tr>\n",
       "      <td>123</td>\n",
       "      <td>-0.850851</td>\n",
       "      <td>-0.441336</td>\n",
       "      <td>100.0</td>\n",
       "      <td>2</td>\n",
       "      <td>blue</td>\n",
       "    </tr>\n",
       "    <tr>\n",
       "      <td>211</td>\n",
       "      <td>-0.458458</td>\n",
       "      <td>-0.401101</td>\n",
       "      <td>100.0</td>\n",
       "      <td>2</td>\n",
       "      <td>blue</td>\n",
       "    </tr>\n",
       "    <tr>\n",
       "      <td>251</td>\n",
       "      <td>-1.667668</td>\n",
       "      <td>-0.329684</td>\n",
       "      <td>100.0</td>\n",
       "      <td>2</td>\n",
       "      <td>blue</td>\n",
       "    </tr>\n",
       "    <tr>\n",
       "      <td>420</td>\n",
       "      <td>0.394394</td>\n",
       "      <td>-0.439959</td>\n",
       "      <td>100.0</td>\n",
       "      <td>2</td>\n",
       "      <td>blue</td>\n",
       "    </tr>\n",
       "    <tr>\n",
       "      <td>422</td>\n",
       "      <td>1.703704</td>\n",
       "      <td>-0.316621</td>\n",
       "      <td>100.0</td>\n",
       "      <td>2</td>\n",
       "      <td>blue</td>\n",
       "    </tr>\n",
       "  </tbody>\n",
       "</table>\n",
       "</div>"
      ],
      "text/plain": [
       "            x         y      z  color_id color\n",
       "123 -0.850851 -0.441336  100.0         2  blue\n",
       "211 -0.458458 -0.401101  100.0         2  blue\n",
       "251 -1.667668 -0.329684  100.0         2  blue\n",
       "420  0.394394 -0.439959  100.0         2  blue\n",
       "422  1.703704 -0.316621  100.0         2  blue"
      ]
     },
     "execution_count": 24,
     "metadata": {},
     "output_type": "execute_result"
    }
   ],
   "source": [
    "df.head()"
   ]
  },
  {
   "cell_type": "code",
   "execution_count": 25,
   "metadata": {},
   "outputs": [],
   "source": [
    "df = df.reset_index()"
   ]
  },
  {
   "cell_type": "code",
   "execution_count": 26,
   "metadata": {},
   "outputs": [
    {
     "data": {
      "text/html": [
       "<div>\n",
       "<style scoped>\n",
       "    .dataframe tbody tr th:only-of-type {\n",
       "        vertical-align: middle;\n",
       "    }\n",
       "\n",
       "    .dataframe tbody tr th {\n",
       "        vertical-align: top;\n",
       "    }\n",
       "\n",
       "    .dataframe thead th {\n",
       "        text-align: right;\n",
       "    }\n",
       "</style>\n",
       "<table border=\"1\" class=\"dataframe\">\n",
       "  <thead>\n",
       "    <tr style=\"text-align: right;\">\n",
       "      <th></th>\n",
       "      <th>index</th>\n",
       "      <th>x</th>\n",
       "      <th>y</th>\n",
       "      <th>z</th>\n",
       "      <th>color_id</th>\n",
       "      <th>color</th>\n",
       "    </tr>\n",
       "  </thead>\n",
       "  <tbody>\n",
       "    <tr>\n",
       "      <td>0</td>\n",
       "      <td>123</td>\n",
       "      <td>-0.850851</td>\n",
       "      <td>-0.441336</td>\n",
       "      <td>100.0</td>\n",
       "      <td>2</td>\n",
       "      <td>blue</td>\n",
       "    </tr>\n",
       "    <tr>\n",
       "      <td>1</td>\n",
       "      <td>211</td>\n",
       "      <td>-0.458458</td>\n",
       "      <td>-0.401101</td>\n",
       "      <td>100.0</td>\n",
       "      <td>2</td>\n",
       "      <td>blue</td>\n",
       "    </tr>\n",
       "    <tr>\n",
       "      <td>2</td>\n",
       "      <td>251</td>\n",
       "      <td>-1.667668</td>\n",
       "      <td>-0.329684</td>\n",
       "      <td>100.0</td>\n",
       "      <td>2</td>\n",
       "      <td>blue</td>\n",
       "    </tr>\n",
       "    <tr>\n",
       "      <td>3</td>\n",
       "      <td>420</td>\n",
       "      <td>0.394394</td>\n",
       "      <td>-0.439959</td>\n",
       "      <td>100.0</td>\n",
       "      <td>2</td>\n",
       "      <td>blue</td>\n",
       "    </tr>\n",
       "    <tr>\n",
       "      <td>4</td>\n",
       "      <td>422</td>\n",
       "      <td>1.703704</td>\n",
       "      <td>-0.316621</td>\n",
       "      <td>100.0</td>\n",
       "      <td>2</td>\n",
       "      <td>blue</td>\n",
       "    </tr>\n",
       "  </tbody>\n",
       "</table>\n",
       "</div>"
      ],
      "text/plain": [
       "   index         x         y      z  color_id color\n",
       "0    123 -0.850851 -0.441336  100.0         2  blue\n",
       "1    211 -0.458458 -0.401101  100.0         2  blue\n",
       "2    251 -1.667668 -0.329684  100.0         2  blue\n",
       "3    420  0.394394 -0.439959  100.0         2  blue\n",
       "4    422  1.703704 -0.316621  100.0         2  blue"
      ]
     },
     "execution_count": 26,
     "metadata": {},
     "output_type": "execute_result"
    }
   ],
   "source": [
    "df.head()"
   ]
  },
  {
   "cell_type": "markdown",
   "metadata": {},
   "source": [
    "### 10."
   ]
  },
  {
   "cell_type": "code",
   "execution_count": 27,
   "metadata": {},
   "outputs": [],
   "source": [
    "df_to_hdf = df.drop(columns = ['index','z','color_id'])\n",
    "df_to_hdf.to_hdf('ns1.h5', key='ns1', mode='w')"
   ]
  },
  {
   "cell_type": "code",
   "execution_count": 28,
   "metadata": {},
   "outputs": [
    {
     "data": {
      "text/html": [
       "<div>\n",
       "<style scoped>\n",
       "    .dataframe tbody tr th:only-of-type {\n",
       "        vertical-align: middle;\n",
       "    }\n",
       "\n",
       "    .dataframe tbody tr th {\n",
       "        vertical-align: top;\n",
       "    }\n",
       "\n",
       "    .dataframe thead th {\n",
       "        text-align: right;\n",
       "    }\n",
       "</style>\n",
       "<table border=\"1\" class=\"dataframe\">\n",
       "  <thead>\n",
       "    <tr style=\"text-align: right;\">\n",
       "      <th></th>\n",
       "      <th>x</th>\n",
       "      <th>y</th>\n",
       "      <th>color</th>\n",
       "    </tr>\n",
       "  </thead>\n",
       "  <tbody>\n",
       "    <tr>\n",
       "      <td>0</td>\n",
       "      <td>-0.850851</td>\n",
       "      <td>-0.441336</td>\n",
       "      <td>blue</td>\n",
       "    </tr>\n",
       "    <tr>\n",
       "      <td>1</td>\n",
       "      <td>-0.458458</td>\n",
       "      <td>-0.401101</td>\n",
       "      <td>blue</td>\n",
       "    </tr>\n",
       "    <tr>\n",
       "      <td>2</td>\n",
       "      <td>-1.667668</td>\n",
       "      <td>-0.329684</td>\n",
       "      <td>blue</td>\n",
       "    </tr>\n",
       "    <tr>\n",
       "      <td>3</td>\n",
       "      <td>0.394394</td>\n",
       "      <td>-0.439959</td>\n",
       "      <td>blue</td>\n",
       "    </tr>\n",
       "    <tr>\n",
       "      <td>4</td>\n",
       "      <td>1.703704</td>\n",
       "      <td>-0.316621</td>\n",
       "      <td>blue</td>\n",
       "    </tr>\n",
       "  </tbody>\n",
       "</table>\n",
       "</div>"
      ],
      "text/plain": [
       "          x         y color\n",
       "0 -0.850851 -0.441336  blue\n",
       "1 -0.458458 -0.401101  blue\n",
       "2 -1.667668 -0.329684  blue\n",
       "3  0.394394 -0.439959  blue\n",
       "4  1.703704 -0.316621  blue"
      ]
     },
     "execution_count": 28,
     "metadata": {},
     "output_type": "execute_result"
    }
   ],
   "source": [
    "df_to_hdf.head()"
   ]
  },
  {
   "cell_type": "markdown",
   "metadata": {},
   "source": [
    "### 11. & 12."
   ]
  },
  {
   "cell_type": "code",
   "execution_count": 29,
   "metadata": {},
   "outputs": [],
   "source": [
    "df_from_hdf = pd.read_hdf('ns1.h5')"
   ]
  },
  {
   "cell_type": "code",
   "execution_count": 30,
   "metadata": {},
   "outputs": [],
   "source": [
    "c = [i[0] for i in df_from_hdf.color]"
   ]
  },
  {
   "cell_type": "code",
   "execution_count": 31,
   "metadata": {},
   "outputs": [
    {
     "data": {
      "image/png": "[encoded data removed]",
      "text/plain": [
       "<Figure size 432x288 with 1 Axes>"
      ]
     },
     "metadata": {
      "needs_background": "light"
     },
     "output_type": "display_data"
    }
   ],
   "source": [
    "df_from_hdf.plot.scatter(x='x', y='y', c=c)\n",
    "plt.savefig('NeuroSYS_DS_Assignment.png')"
   ]
  },
  {
   "cell_type": "code",
   "execution_count": 32,
   "metadata": {},
   "outputs": [
    {
     "data": {
      "text/plain": [
       "<matplotlib.axes._subplots.AxesSubplot at 0x1e225f1ccf8>"
      ]
     },
     "execution_count": 32,
     "metadata": {},
     "output_type": "execute_result"
    },
    {
     "data": {
      "image/png": "[encoded data removed]",
      "text/plain": [
       "<Figure size 432x288 with 1 Axes>"
      ]
     },
     "metadata": {
      "needs_background": "light"
     },
     "output_type": "display_data"
    }
   ],
   "source": [
    "df_from_hdf.plot.scatter(x='x', y='y', c=c, ylim=[-2,2])"
   ]
  }
 ],
 "metadata": {
  "kernelspec": {
   "display_name": "Python 3",
   "language": "python",
   "name": "python3"
  },
  "language_info": {
   "codemirror_mode": {
    "name": "ipython",
    "version": 3
   },
   "file_extension": ".py",
   "mimetype": "text/x-python",
   "name": "python",
   "nbconvert_exporter": "python",
   "pygments_lexer": "ipython3",
   "version": "3.7.3"
  }
 },
 "nbformat": 4,
 "nbformat_minor": 4
}
